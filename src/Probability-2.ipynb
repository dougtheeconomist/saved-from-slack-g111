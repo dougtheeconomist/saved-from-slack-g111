{
 "cells": [
  {
   "cell_type": "markdown",
   "metadata": {},
   "source": [
    "# Question 1: 500 Cards\n",
    "\n",
    "Imagine a deck of 500 cards numbered from 1 to 500. If all the cards are shuffled randomly and you are asked to pick three cards, one at a time, what's the probability of each subsequent card being larger than the previous drawn card?\n",
    "\n",
    "[Solution](#Q1)"
   ]
  },
  {
   "cell_type": "markdown",
   "metadata": {},
   "source": [
    "# Question 2: First to Six\n",
    "    \n",
    "Amy and Brad take turns in rolling a fair six-sided die. Whoever rolls a \"6\" first wins the game. Amy starts by rolling first.\n",
    "\n",
    "What's the probability that Amy wins?\n",
    "\n",
    "[Solution](#Q2)"
   ]
  },
  {
   "cell_type": "markdown",
   "metadata": {},
   "source": [
    "# Question 3: Four Person Elevator\n",
    "\n",
    "There are four people on the ground floor of a building that has five levels not including the ground floor. They all get into the same elevator.\n",
    "\n",
    "If each person is equally likely to get on any floor and they leave independently of each other, what is the probability that no two passengers will get off at the same floor?\n",
    "\n",
    "[Solution](#Q3)"
   ]
  },
  {
   "cell_type": "markdown",
   "metadata": {},
   "source": [
    "# Question 4: Is it Raining in Seattle?\n",
    "\n",
    "You are about to get on a plane to Seattle. You want to know if you should bring an umbrella. You call 3 random friends of yours who live there and ask each independently if it's raining. Each of your friends has a 2/3 chance of telling you the truth and a 1/3 chance of messing with you by lying. All 3 friends tell you that \"Yes\" it is raining.\n",
    "\n",
    "What is the probability that it's actually raining in Seattle?\n",
    "\n",
    "[Solution](#Q4)"
   ]
  },
  {
   "cell_type": "markdown",
   "metadata": {},
   "source": [
    "# Question 5: HHT or HTT\n",
    "\n",
    "You're given a fair coin. You flip the coin until either Heads Heads Tails (HHT) or Heads Tails Tails (HTT) appears. Is one more likely to appear first? If so, which one and with what probability?\n",
    "\n",
    "[Solution](#Q5) coming soon."
   ]
  },
  {
   "cell_type": "markdown",
   "metadata": {},
   "source": [
    "# Question 6: Biased Random Number Generator\n",
    "\n",
    "Given an unfair coin with the probability of heads and tails not equal to 50/50, what algorithm could generate a list of random ones and zeros?\n",
    "\n",
    "[Solution](#Q6)"
   ]
  },
  {
   "cell_type": "markdown",
   "metadata": {},
   "source": [
    "# Question 7: Median Probability\n",
    "\n",
    "Given three random variables independent and identically distributed from a continuous uniform distribution of 0 to 4, what is the probability that the median is greater than 3?\n",
    "\n",
    "[Solution](#Q7)"
   ]
  },
  {
   "cell_type": "markdown",
   "metadata": {},
   "source": [
    "# Question 8: Jars and Coins\n",
    "\n",
    "A jar holds 1000 coins. Out of all of the coins, 999 are fair and one is double-sided with two heads. Picking a coin at random, you toss the coin ten times.\n",
    "\n",
    "Given that you see 10 heads, what is the probability that the coin is double headed and the probability that the next toss of the coin is also a head?\n",
    "\n",
    "Give your answer to 3 significant figures.\n",
    "\n",
    "[Solution](#Q8)"
   ]
  },
  {
   "cell_type": "markdown",
   "metadata": {},
   "source": [
    "# Question 9: Biased Five Out of Six\n",
    "    \n",
    "Let's say we're given a biased coin that comes up heads 30% of the time when tossed.\n",
    "\n",
    "What is the probability of the coin landing as heads exactly 5 times out of 6 tosses?\n",
    "\n",
    "[Solution](#Q9)"
   ]
  },
  {
   "cell_type": "markdown",
   "metadata": {},
   "source": [
    "# Question 10: Same Side Probability\n",
    "\n",
    "Suppose we have two coins. One is fair and the other biased where the probability of it coming up heads is 3/4.\n",
    "\n",
    "Let's say we select a coin at random and flip it two times. What is the probability that both flips result in the same side?\n",
    "\n",
    "[Solution](#Q10)"
   ]
  },
  {
   "cell_type": "markdown",
   "metadata": {},
   "source": [
    "# Question 11: Found Item\n",
    "\n",
    "Amazon has a warehouse system where items on the website are located at different distribution centers across a city. Let's say in one example city, the probability that a specific item X at location A is 0.6, and at location B the probability is 0.8.\n",
    "\n",
    "Given you're a customer in this example city and the items are only found on the website if they exist in the distribution centers, what is the probability that the item X would be found on Amazon's website?\n",
    "\n",
    "[Solution](#Q11)"
   ]
  },
  {
   "cell_type": "markdown",
   "metadata": {},
   "source": [
    "# Question 12: Secret Wins\n",
    "\n",
    "There are 100 students that are playing a coin-tossing game.\n",
    "\n",
    "The students are given a coin to toss. If a student tosses the coin and it turns up heads, they win. If it comes up tails, then they must flip again.\n",
    "\n",
    "If the coin comes up heads the second time, the students will lie and say they have won when they didn't. If it comes up tails then they will say they have lost.\n",
    "\n",
    "If 30 students at the end say they won, how many students do we expect actually did win the game?\n",
    "\n",
    "[Solution](#Q12)"
   ]
  },
  {
   "cell_type": "markdown",
   "metadata": {},
   "source": [
    "# Question 13: Lazy Raters\n",
    "\n",
    "Netflix has hired people to rate movies.\n",
    "\n",
    "Out of all of the raters, 80% of the raters carefully rate movies and rate 60% of the movies as good and 40% as bad. The other 20% are lazy raters and rate 100% of the movies as good.\n",
    "\n",
    "Assumming all raters rate the same amount of movies, what is the probability that a movie is rated good?\n",
    "\n",
    "[Solution](#Q13)"
   ]
  },
  {
   "cell_type": "markdown",
   "metadata": {},
   "source": [
    "# Question 14: Impression Reach\n",
    "\n",
    "Let's say we have a very naive advertising platform. Given an audience of size A and an impression size of B, each user in the audience is given the same random chance of seeing an impression. \n",
    "\n",
    "1. Compute the probability that a user sees exactly 0 impressions. \n",
    "\n",
    "2. What's the probability of each person receiving at least 1 impression?\n",
    "\n",
    "[Solution](#Q14)"
   ]
  },
  {
   "cell_type": "markdown",
   "metadata": {},
   "source": [
    "# Question 15: Poker Pair\n",
    "\n",
    "Imagine a poker game. Let's say that you're drawing N cards from a deck of 52 cards.\n",
    "\n",
    "Compute the probability that you will get at least one pair from your hand of N cards.\n",
    "\n",
    "[Solution](#Q15)"
   ]
  },
  {
   "cell_type": "markdown",
   "metadata": {},
   "source": [
    "# Question 16: Second Ace\n",
    "\n",
    "Let's say you have to draw two cards from a shuffled deck, one at a time.\n",
    "\n",
    "What's the probability that the second card is not an Ace?\n",
    "\n",
    "[Solution](#Q16)"
   ]
  },
  {
   "cell_type": "markdown",
   "metadata": {},
   "source": [
    "# Question 17: Three Zebras\n",
    "\n",
    "Three zebras are chilling in the desert. Suddenly a lion attacks.\n",
    "\n",
    "Each zebra is sitting on a corner of an equally length triangle. Each zebra randomly picks a direction and only runs along the outline of the triangle to either edge of the triangle.\n",
    "\n",
    "What is the probability that none of the zebras collide?\n",
    "\n",
    "[Solution](#Q17)"
   ]
  },
  {
   "cell_type": "markdown",
   "metadata": {},
   "source": [
    "# Question 18: Different Card\n",
    "\n",
    "You pull two cards, one at a time, from a deck of cards without replacement.\n",
    "\n",
    "What is probability that the second card you pick is a different color or different suit than the first card?\n",
    "\n",
    "[Solution](#Q18)"
   ]
  },
  {
   "cell_type": "markdown",
   "metadata": {},
   "source": [
    "# Solutions"
   ]
  },
  {
   "cell_type": "markdown",
   "metadata": {},
   "source": [
    "## Q1\n",
    "\n",
    "`1/6`\n",
    "\n",
    "Interestingly, the number of cards in the deck does not matter. We know we are drawing 3 cards with distinct numbers. There is only 1 ordering of the 3 cards that will have the cards appear in ascending order. The total number of ways to order 3 cards is 3 factorial.\n",
    "\n",
    "So there is 1 possible ordering of cards that matches our criteria, and 6 possible ways to order the cards. Therefore, the probability of each subsequent card being larger than the following card is `1/6`. \n",
    "\n",
    "[Back to Question](#Question-1:-500-Cards)"
   ]
  },
  {
   "cell_type": "markdown",
   "metadata": {},
   "source": [
    "## Q2\n",
    "\n",
    "`6/11`\n",
    "\n",
    "There are a couple of ways to solve this problem. One way is to put it into terms of the probability a person wins given they get to roll first. So `P(Amy Wins) = P(Win | Go First)`. If Amy fails to roll a 6 `p = 5/6` then Brad is essentially in the position to win by going first. This means `P(Brad Wins) = 5/6*P(Win | Go First)`. We know the total probability must add up to 1, therefore we have `P(Win | Go First) + 5/6*P(Win | Go First) = 1`.\n",
    "\n",
    "Solving that equation yields `P(Win | Go First) = 6/11`.\n",
    "\n",
    "Additionally, we can solve this as a geometric series. Detailed explanation coming soon..."
   ]
  },
  {
   "cell_type": "markdown",
   "metadata": {},
   "source": [
    "## Q3\n",
    "\n",
    "`19.2%`\n",
    "\n",
    "The number of ways to assigning five floors to four different people is to get the total sample space. In this case it would be `5*5*5*5`. For each person, they can choose one of five floors, which happens four times for four people. So the total number of combinations is 5^4.\n",
    "\n",
    "The number of ways to assign five floors to four people without repetition of floors is `5*4*3*2` because for the first passenger you have five different options. The second person has four, and so on. Note that this number counts all possible orders betwen passengers as well.\n",
    "\n",
    "The result is then:\n",
    "\n",
    "\\begin{equation*}\n",
    "\\frac{5*4*3*2}{5^4} = 0.192 = 19.2\\%\n",
    "\\end{equation*}\n",
    "\n",
    "[Back to Question](#Question-3:-Four-Person-Elevator)"
   ]
  },
  {
   "cell_type": "markdown",
   "metadata": {},
   "source": [
    "## Q4\n",
    "\n",
    "`8/9`\n",
    "\n",
    "All 3 of your friends agreed, so we know they're either all (indepently) lying or telling the truth.\n",
    "\n",
    "`P(Truth) = 2/3`  \n",
    "`P(Lie) = 1/3`\n",
    "\n",
    "The probability all 3 are telling the truth is $(2/3)^{3} = 8/27$ while the probability they're all lying is $(1/3)^{3} = 1/27$. It's raining if all 3 of your friends are telling the truth, so for the probability it's raining we divide the probability they're all telling the truth by the total probability.\n",
    "\n",
    "`8/27 / (1/27 + 8/27) = 8/9`\n",
    "\n",
    "[Back to Question](#Question-4:-Is-it-Raining-in-Seattle?)"
   ]
  },
  {
   "cell_type": "markdown",
   "metadata": {},
   "source": [
    "## Q6\n",
    "\n",
    "Let's say our biased coin has `p=.30`, so it only comes up H 30% of the time. The algorithm is to flip the coin twice and use the results `HT` and `TH`, assigning a value of 1 to one and 0 to the other.\n",
    "\n",
    "Let's look at the probabilities of possible sequences of two flips of this coin:\n",
    "\n",
    "$HH = .30^{2} = .09$   \n",
    "$HT = .30*.70 = .21$  \n",
    "$TH = .30*.70 = .21$  \n",
    "$TT = .70^{2} = .49$  \n",
    "\n",
    "Both `HT` and `TH` have the same probability of occuring. Therefore, if we keep only those results, we can generate a sequence of random 1s and 0s, as if we were flipping a fair coin. We'll just end up throwing out 58% of our flips.\n",
    "\n",
    "[Back to Question](#Question-6:-Biased-Random-Number-Generator)"
   ]
  },
  {
   "cell_type": "markdown",
   "metadata": {},
   "source": [
    "## Q7\n",
    "\n",
    "`10/64`\n",
    "\n",
    "There are two possible scenarios where the median will be greater than 3:\n",
    "\n",
    "Scenario A: All 3 numbers are greater than 3.  \n",
    "Scenario B: Two of the numbers are greater than 3. \n",
    "\n",
    "For a uniform distribution from 0 to 4, the probability of sampling a number in an interval is simply the ratio of that interval to the length of the total distribution. The part of the uniform distribution greater than 3 is 1/4 of the total interval. Therefore, the probability all 3 numbers are greater than 3 is $(1/4)^{3} = 1/64$.\n",
    "\n",
    "Now we need to calculate the probability that just two of the numbers are greater than 3. We need to take combinations into account for how many possible ways 2 numbers could be greater than 3:\n",
    "\n",
    "Numbers 1 and 3 > 3  \n",
    "Numbers 2 and 3 > 3  \n",
    "Numbers 1 and 2 > 3\n",
    "\n",
    "In other words, this is a binomial distribution problem with `p=1/4`. The probability of exactly 2 \"successes\" is given by the binomial PMF:\n",
    "\n",
    "\n",
    "\\begin{equation*}\n",
    "P(X=k) = {n \\choose k} * p^k * (1-p)^{n-k}\n",
    "\\end{equation*}\n",
    "\n",
    "\n",
    "\\begin{equation*}\n",
    "P(X=5) =  {3 \\choose 2} * 0.25^2 * (1-0.25)^1 = 9/64\n",
    "\\end{equation*}\n",
    "\n",
    "Adding up the probabilities of scenario A and B yields `1/64 + 9/64 = 10/64`.\n",
    "\n",
    "[Back to Question](#Question-7:-Median-Probability)"
   ]
  },
  {
   "cell_type": "markdown",
   "metadata": {},
   "source": [
    "## Q8\n",
    "\n",
    "This is just a Bayes' formula question.\n",
    "\n",
    "I'll denote the coins as `F` (fair) and `DH` (double headed).\n",
    "\n",
    "\\begin{equation*}\n",
    "P(DH|{10 H}) = \\frac{P({10 H}|DH) * P(DH)} {P(10H)}\n",
    "\\end{equation*}\n",
    "\n",
    "For `P(10 H|DH)` we have a value of 100% because if you've grabbed the double-headed coin you are guaranteed to get ten `H` from ten flips.\n",
    "Our prior probability of grabbing the `DH` coin, `P(DH)`, is `1/1000` since we know that only 1 coin out of 1000 was double-headed.\n",
    "\n",
    "Finally, `P(10H)` is equal to the probability of flipping 10 heads with the `DH` coin times the probability of grabbing the `DH` coin, plus the probability of getting 10 heads and grabbing the fair coin.\n",
    "\n",
    "\\begin{equation*}\n",
    "P(10H) = {P(10H|DH)*P(DH) + P(10H|F)*P(F)} \n",
    "\\end{equation*}\n",
    "\n",
    "\\begin{equation*}\n",
    "P(10H) = {1.0*(1/1000) + .5^{10}*(999/1000)} = 0.00197558593\n",
    "\\end{equation*}\n",
    "\n",
    "Putting it all together yields:\n",
    "\n",
    "\\begin{equation*}\n",
    "P(DH|{10 H}) = \\frac{1/1000} {0.00197558593} = 0.506\n",
    "\\end{equation*}\n",
    "\n",
    "This is the posterior probability that we have the double-headed coin. We'll use this as our new prior to answer the part about getting `H` on the next flip.\n",
    "\n",
    "\\begin{equation*}\n",
    "P(H) = {P(H|DH)*P(DH) + P(H|F)*P(F)} = {1.0*.506} + {.50*(1-.506)} = .753\n",
    "\\end{equation*}\n",
    "\n",
    "[Back to Question](#Question-8:-Jars-and-Coins)"
   ]
  },
  {
   "cell_type": "markdown",
   "metadata": {},
   "source": [
    "## Q9\n",
    "\n",
    "Let's break down the prompt. We're given two pieces of information in this scenario:\n",
    "\n",
    "1. Heads comes up 30% of the time in a biased coin.\n",
    "2. What's the probability of exactly 5 heads out of 6 tosses?\n",
    "\n",
    "The binomial distribution should immediately spring to mind anytime we are discussing the result of multiple coin flips. \n",
    "\n",
    "\\begin{equation*}\n",
    "P(X=k) = {n \\choose k} * p^k * (1-p)^{n-k}\n",
    "\\end{equation*}\n",
    "\n",
    "For our purposes we have probability of success  `p = .30`, `n = 6` number of trials, and `k=5` number of successess. \n",
    "\n",
    "\\begin{equation*}\n",
    "P(X=5) =  {6 \\choose 5} * 0.3^5 * (1-0.3)^1 = 0.010206\n",
    "\\end{equation*}\n",
    "\n",
    "[Back to Question](#Question-9:-Biased-Five-Out-of-Six)"
   ]
  },
  {
   "cell_type": "markdown",
   "metadata": {},
   "source": [
    "## Q10\n",
    "\n",
    "`9/16` \n",
    "\n",
    "First, calculate the probability of a fair coin coming up the same side twice in two flips, which is 50%. Now, for the coin biased with `p=3/4` we need to calculate the probability it gets heads twice in a row and the probability of tails twice in a row. Heads twice is `(3/4)^2 = 9/16` and tails twice is `(1/4)^2 = 1/16`. Adding those two together yields `10/16`. \n",
    "\n",
    "Since we have an equal chance of selecting either coin to flip, the probability of getting the same side twice in a row is 50% times the probability of the fair coin getting the same side twice plus 50% times the probability of the biased coin getting matching sides.\n",
    "\n",
    "`1/2*1/2 + 1/2*10/16 = 9/16`\n",
    "\n",
    "[Back to Question](#Question-10:-Same-Side-Probability)"
   ]
  },
  {
   "cell_type": "markdown",
   "metadata": {},
   "source": [
    "## Q11\n",
    "\n",
    "`.92`\n",
    "\n",
    "In other for an item to not be found on the website, it would have to be missing from both distribution centers A and B. \n",
    "\n",
    "`P(A Missing) = .40`  \n",
    "`P(B Missing) = .20`\n",
    "\n",
    "If we assume the distribution centers are independent then probability that the item is missing from both is simply `.20*.40 = .08`. The question asks for the probability that an item is **not** missing, so that is 1 minus the probability it is missing, or `1 - .08 = .92`. \n",
    "\n",
    "[Back to Question](#Question-11:-Found-Item)"
   ]
  },
  {
   "cell_type": "markdown",
   "metadata": {},
   "source": [
    "## Q12\n",
    "\n",
    "`20`\n",
    "\n",
    "If a student says they won, then that student falls under two possible scenarios. Either they flipped `H` the first time or `T` then `H` on the second flip. The probability of flipping `H` is .50 while the probability of `TH` is .25. The probability the student actually won is then simply `.50 / (.50 + .25)` due to the law of total probability.\n",
    "\n",
    "We could also write out the problem explicitly using Bayes' Rule. I'll use the letter `W` to represent actually winning the game and `SW` to represent a student saying they won a game (either because they did or because they're lying).\n",
    "\n",
    "\\begin{equation*}\n",
    "P(W|SW) = \\frac{P(SW|W) * P(W)} {P(SW)}\n",
    "\\end{equation*}\n",
    "\n",
    "The probability you say you win if you actually won is 100%, while the probability of winning is 50% (a fair coin getting heads on the first flip). Now for `P(SW)`, the probability of saying you won is equal to the probability you actually did win plus the probability you're lying about winning. In other words, the probability of flipping `H` the first time plus the probability of `T` then `H`.\n",
    "\n",
    "\\begin{equation*}\n",
    "P(SW) = {P(H) + P(TH)} = {.50 + (.50*.50)} = .75\n",
    "\\end{equation*}\n",
    "\n",
    "So plugging back into our Bayes' formula we end up with:\n",
    "\n",
    "\\begin{equation*}\n",
    "P(W|SW) = \\frac{1 * .50} {.75} = \\frac{2}{3}\n",
    "\\end{equation*}\n",
    "\n",
    "We take the probability a person actually won given they said they won and multiply it by the 30 people who say they won, yielding 20 that we expect actually won.\n",
    "\n",
    "[Back to Question](#Question-12:-Secret-Wins)"
   ]
  },
  {
   "cell_type": "markdown",
   "metadata": {},
   "source": [
    "## Q13\n",
    "\n",
    "`.68`\n",
    "\n",
    "\\begin{equation*}\n",
    "P(Good) = P(Good | Lazy) * P(Lazy) + P(Good | Careful) * P(Careful)\n",
    "\\end{equation*}\n",
    "\n",
    "\\begin{equation*}\n",
    "P(Good) = 1 * .20 + .60 * .80 = .68\n",
    "\\end{equation*}\n",
    "\n",
    "[Back to Question](#Question-13:-Lazy-Raters)"
   ]
  },
  {
   "cell_type": "markdown",
   "metadata": {},
   "source": [
    "## Q14\n",
    "\n",
    "This question feels a bit ambigous with the phrase `each user in the audience is given the same random chance of seeing an impression`. Apparently this means each user in audience size A is given the probability `1/A` of seeing any given impression. So essentially, each user experiences `B` number of Bernoulli trials with probability of success `1/A`.\n",
    "\n",
    "The probability a user receives 0 impressions is the probability of \"failure\" at each trial to the power of the number of trials. In other words:\n",
    "\n",
    "$ P(X=0) = (1-1/A)^{B}$\n",
    "\n",
    "The probability a user receives at least 1 impression is simply 1 minus the probability of getting 0 impressions.\n",
    "\n",
    "$ P(X>=0) = 1- (1-1/A)^{B}$\n",
    "\n",
    "[Back to Question](#Question-14:-Impression-Reach)"
   ]
  },
  {
   "cell_type": "markdown",
   "metadata": {},
   "source": [
    "## Q15\n",
    "\n",
    "When you need to calculate the probability of \"at least one\" of something it is often easiest to calculate 1 minus the probability of 0 things happening. This is the case in this problem. \n",
    "\n",
    "The probability of having a pair after drawing 1 card is 0. After 2 cards we have `48/51`. This is because there are 12 other possible card numbers to draw from in order to avoid making a pair, and 4 each of that number, with 51 cards remaining in the deck.\n",
    "\n",
    "After 3 cards we have `48/51*44/50`. A pattern begins to emerge and we end up with the formula for no pairs of matching cards in `N` cards drawn:\n",
    "\n",
    "\\begin{equation*}\n",
    "  \\prod_{i=0}^{n-1} \\frac{{52-4i}}{52-i}\n",
    "\\end{equation*}\n",
    "\n",
    "Note that when `N=14` we have a term where the numerator is 0, which is what we'd expect since it's impossible to draw 14 cards in a standard deck and not have at least 1 matching pair.\n",
    "\n",
    "[Back to Question](#Question-15:-Poker-Pair)"
   ]
  },
  {
   "cell_type": "markdown",
   "metadata": {},
   "source": [
    "## Q16\n",
    "\n",
    "`12/13`\n",
    "\n",
    "In a shuffled deck of cards, the probability that any given position is not an ace is simply `48/52`, or `12/13`, since there are 48 cards in the deck that are not aces. Or, you can write out the probailities of the two possible scenariors:\n",
    "\n",
    "1. The first card is an ace while the second is not. `(4/52)*(48/51)`\n",
    "2. The first card is not an ace while the second is also not not. `(48/52)*(47/51)`\n",
    "\n",
    "Adding the two together yields `(4/52)*(48/51) + (48/52)*(47/51) = 12/13`\n",
    "\n",
    "[Back to Question](#Question-16:-Second-Ace)"
   ]
  },
  {
   "cell_type": "markdown",
   "metadata": {},
   "source": [
    "## Q17\n",
    "\n",
    "`25%`\n",
    "\n",
    "Each zebra has 2 choices (independent of other zebras) on which direction along the triangle to run so there are `2^3 = 8` possible combinations. The only way no zebras collide is if all chose to run clockwise or all chose counter-clockwise. Therefore, we have 2 out of 8 possible options that result in no collision, or `25%`.\n",
    "\n",
    "[Back to Question](#Question-17:-Three-Zebras)"
   ]
  },
  {
   "cell_type": "markdown",
   "metadata": {},
   "source": [
    "## Q18\n",
    "\n",
    "`39/51`\n",
    "\n",
    "Remember that the probability of A or B is the probability of A plus the probability of B, minus the probability of both A and B occuring:\n",
    "\n",
    "\\begin{equation*}\n",
    "P(A \\cup B) = P(A) + P(B) - P(A \\cap B)\n",
    "\\end{equation*}\n",
    "\n",
    "Except for our purposes `A = Different Color` while `B = Different Suit`.\n",
    "\n",
    "Since we chose a card without replacement, there are 51 cards remaining in the deck, with 26 being a different color. Therefore, the probability of choosing a card with a different color is `26/51`. There are `13*3=39` cards of a different suit, so we have a `39/51` probability of choosing a different suit. Finally, since cards of a different color are always of a different suit, we have `26/51` cards that are both a different suit and color. Therefore, we end up with:\n",
    "\n",
    "`P(Different Color or Different Suit) = 26/51 + 39/51 - 26/51 = 39/51`\n",
    "\n",
    "[Back to Question](#Question-18:-Different-Card)"
   ]
  }
 ],
 "metadata": {
  "kernelspec": {
   "display_name": "Python 3",
   "language": "python",
   "name": "python3"
  },
  "language_info": {
   "codemirror_mode": {
    "name": "ipython",
    "version": 3
   },
   "file_extension": ".py",
   "mimetype": "text/x-python",
   "name": "python",
   "nbconvert_exporter": "python",
   "pygments_lexer": "ipython3",
   "version": "3.7.6"
  }
 },
 "nbformat": 4,
 "nbformat_minor": 4
}
